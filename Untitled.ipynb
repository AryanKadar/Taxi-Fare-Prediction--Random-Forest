{
 "cells": [
  {
   "cell_type": "code",
   "execution_count": 1,
   "metadata": {},
   "outputs": [],
   "source": [
    "import pandas as pd\n",
    "import matplotlib.pyplot as mp\n",
    "from sklearn.metrics import r2_score as r2\n",
    "from sklearn.model_selection import train_test_split as TTS,GridSearchCV as GSCV,cross_val_score as CVS\n",
    "from sklearn import set_config\n",
    "import seaborn as sn\n",
    "from sklearn.ensemble import RandomForestRegressor as RFR\n",
    "import matplotlib.pyplot as mp\n",
    "set_config(display=\"diagram\")"
   ]
  },
  {
   "cell_type": "code",
   "execution_count": 2,
   "metadata": {},
   "outputs": [],
   "source": [
    "t1=pd.read_csv(\"TaxiFare.csv\")\n",
    "t=t1"
   ]
  },
  {
   "cell_type": "code",
   "execution_count": 3,
   "metadata": {},
   "outputs": [
    {
     "data": {
      "text/html": [
       "<div>\n",
       "<style scoped>\n",
       "    .dataframe tbody tr th:only-of-type {\n",
       "        vertical-align: middle;\n",
       "    }\n",
       "\n",
       "    .dataframe tbody tr th {\n",
       "        vertical-align: top;\n",
       "    }\n",
       "\n",
       "    .dataframe thead th {\n",
       "        text-align: right;\n",
       "    }\n",
       "</style>\n",
       "<table border=\"1\" class=\"dataframe\">\n",
       "  <thead>\n",
       "    <tr style=\"text-align: right;\">\n",
       "      <th></th>\n",
       "      <th>unique_id</th>\n",
       "      <th>amount</th>\n",
       "      <th>date_time_of_pickup</th>\n",
       "      <th>longitude_of_pickup</th>\n",
       "      <th>latitude_of_pickup</th>\n",
       "      <th>longitude_of_dropoff</th>\n",
       "      <th>latitude_of_dropoff</th>\n",
       "      <th>no_of_passenger</th>\n",
       "    </tr>\n",
       "  </thead>\n",
       "  <tbody>\n",
       "    <tr>\n",
       "      <th>0</th>\n",
       "      <td>26:21.0</td>\n",
       "      <td>4.5</td>\n",
       "      <td>2009-06-15 17:26:21 UTC</td>\n",
       "      <td>-73.844311</td>\n",
       "      <td>40.721319</td>\n",
       "      <td>-73.841610</td>\n",
       "      <td>40.712278</td>\n",
       "      <td>1</td>\n",
       "    </tr>\n",
       "    <tr>\n",
       "      <th>1</th>\n",
       "      <td>52:16.0</td>\n",
       "      <td>16.9</td>\n",
       "      <td>2010-01-05 16:52:16 UTC</td>\n",
       "      <td>-74.016048</td>\n",
       "      <td>40.711303</td>\n",
       "      <td>-73.979268</td>\n",
       "      <td>40.782004</td>\n",
       "      <td>1</td>\n",
       "    </tr>\n",
       "    <tr>\n",
       "      <th>2</th>\n",
       "      <td>35:00.0</td>\n",
       "      <td>5.7</td>\n",
       "      <td>2011-08-18 00:35:00 UTC</td>\n",
       "      <td>-73.982738</td>\n",
       "      <td>40.761270</td>\n",
       "      <td>-73.991242</td>\n",
       "      <td>40.750562</td>\n",
       "      <td>2</td>\n",
       "    </tr>\n",
       "    <tr>\n",
       "      <th>3</th>\n",
       "      <td>30:42.0</td>\n",
       "      <td>7.7</td>\n",
       "      <td>2012-04-21 04:30:42 UTC</td>\n",
       "      <td>-73.987130</td>\n",
       "      <td>40.733143</td>\n",
       "      <td>-73.991567</td>\n",
       "      <td>40.758092</td>\n",
       "      <td>1</td>\n",
       "    </tr>\n",
       "    <tr>\n",
       "      <th>4</th>\n",
       "      <td>51:00.0</td>\n",
       "      <td>5.3</td>\n",
       "      <td>2010-03-09 07:51:00 UTC</td>\n",
       "      <td>-73.968095</td>\n",
       "      <td>40.768008</td>\n",
       "      <td>-73.956655</td>\n",
       "      <td>40.783762</td>\n",
       "      <td>1</td>\n",
       "    </tr>\n",
       "  </tbody>\n",
       "</table>\n",
       "</div>"
      ],
      "text/plain": [
       "  unique_id  amount      date_time_of_pickup  longitude_of_pickup  \\\n",
       "0   26:21.0     4.5  2009-06-15 17:26:21 UTC           -73.844311   \n",
       "1   52:16.0    16.9  2010-01-05 16:52:16 UTC           -74.016048   \n",
       "2   35:00.0     5.7  2011-08-18 00:35:00 UTC           -73.982738   \n",
       "3   30:42.0     7.7  2012-04-21 04:30:42 UTC           -73.987130   \n",
       "4   51:00.0     5.3  2010-03-09 07:51:00 UTC           -73.968095   \n",
       "\n",
       "   latitude_of_pickup  longitude_of_dropoff  latitude_of_dropoff  \\\n",
       "0           40.721319            -73.841610            40.712278   \n",
       "1           40.711303            -73.979268            40.782004   \n",
       "2           40.761270            -73.991242            40.750562   \n",
       "3           40.733143            -73.991567            40.758092   \n",
       "4           40.768008            -73.956655            40.783762   \n",
       "\n",
       "   no_of_passenger  \n",
       "0                1  \n",
       "1                1  \n",
       "2                2  \n",
       "3                1  \n",
       "4                1  "
      ]
     },
     "execution_count": 3,
     "metadata": {},
     "output_type": "execute_result"
    }
   ],
   "source": [
    "t.head()"
   ]
  },
  {
   "cell_type": "code",
   "execution_count": 4,
   "metadata": {},
   "outputs": [
    {
     "data": {
      "text/plain": [
       "(50000, 8)"
      ]
     },
     "execution_count": 4,
     "metadata": {},
     "output_type": "execute_result"
    }
   ],
   "source": [
    "t.shape"
   ]
  },
  {
   "cell_type": "code",
   "execution_count": 5,
   "metadata": {},
   "outputs": [
    {
     "data": {
      "text/html": [
       "<div>\n",
       "<style scoped>\n",
       "    .dataframe tbody tr th:only-of-type {\n",
       "        vertical-align: middle;\n",
       "    }\n",
       "\n",
       "    .dataframe tbody tr th {\n",
       "        vertical-align: top;\n",
       "    }\n",
       "\n",
       "    .dataframe thead th {\n",
       "        text-align: right;\n",
       "    }\n",
       "</style>\n",
       "<table border=\"1\" class=\"dataframe\">\n",
       "  <thead>\n",
       "    <tr style=\"text-align: right;\">\n",
       "      <th></th>\n",
       "      <th>count</th>\n",
       "      <th>mean</th>\n",
       "      <th>std</th>\n",
       "      <th>min</th>\n",
       "      <th>25%</th>\n",
       "      <th>50%</th>\n",
       "      <th>75%</th>\n",
       "      <th>max</th>\n",
       "    </tr>\n",
       "  </thead>\n",
       "  <tbody>\n",
       "    <tr>\n",
       "      <th>amount</th>\n",
       "      <td>50000.0</td>\n",
       "      <td>11.364171</td>\n",
       "      <td>9.685557</td>\n",
       "      <td>-5.000000</td>\n",
       "      <td>6.000000</td>\n",
       "      <td>8.500000</td>\n",
       "      <td>12.500000</td>\n",
       "      <td>200.000000</td>\n",
       "    </tr>\n",
       "    <tr>\n",
       "      <th>longitude_of_pickup</th>\n",
       "      <td>50000.0</td>\n",
       "      <td>-72.509756</td>\n",
       "      <td>10.393860</td>\n",
       "      <td>-75.423848</td>\n",
       "      <td>-73.992062</td>\n",
       "      <td>-73.981840</td>\n",
       "      <td>-73.967148</td>\n",
       "      <td>40.783472</td>\n",
       "    </tr>\n",
       "    <tr>\n",
       "      <th>latitude_of_pickup</th>\n",
       "      <td>50000.0</td>\n",
       "      <td>39.933759</td>\n",
       "      <td>6.224857</td>\n",
       "      <td>-74.006893</td>\n",
       "      <td>40.734880</td>\n",
       "      <td>40.752678</td>\n",
       "      <td>40.767360</td>\n",
       "      <td>401.083332</td>\n",
       "    </tr>\n",
       "    <tr>\n",
       "      <th>longitude_of_dropoff</th>\n",
       "      <td>50000.0</td>\n",
       "      <td>-72.504616</td>\n",
       "      <td>10.407570</td>\n",
       "      <td>-84.654241</td>\n",
       "      <td>-73.991152</td>\n",
       "      <td>-73.980082</td>\n",
       "      <td>-73.963584</td>\n",
       "      <td>40.851027</td>\n",
       "    </tr>\n",
       "    <tr>\n",
       "      <th>latitude_of_dropoff</th>\n",
       "      <td>50000.0</td>\n",
       "      <td>39.926251</td>\n",
       "      <td>6.014737</td>\n",
       "      <td>-74.006377</td>\n",
       "      <td>40.734371</td>\n",
       "      <td>40.753372</td>\n",
       "      <td>40.768167</td>\n",
       "      <td>43.415190</td>\n",
       "    </tr>\n",
       "    <tr>\n",
       "      <th>no_of_passenger</th>\n",
       "      <td>50000.0</td>\n",
       "      <td>1.667840</td>\n",
       "      <td>1.289195</td>\n",
       "      <td>0.000000</td>\n",
       "      <td>1.000000</td>\n",
       "      <td>1.000000</td>\n",
       "      <td>2.000000</td>\n",
       "      <td>6.000000</td>\n",
       "    </tr>\n",
       "  </tbody>\n",
       "</table>\n",
       "</div>"
      ],
      "text/plain": [
       "                        count       mean        std        min        25%  \\\n",
       "amount                50000.0  11.364171   9.685557  -5.000000   6.000000   \n",
       "longitude_of_pickup   50000.0 -72.509756  10.393860 -75.423848 -73.992062   \n",
       "latitude_of_pickup    50000.0  39.933759   6.224857 -74.006893  40.734880   \n",
       "longitude_of_dropoff  50000.0 -72.504616  10.407570 -84.654241 -73.991152   \n",
       "latitude_of_dropoff   50000.0  39.926251   6.014737 -74.006377  40.734371   \n",
       "no_of_passenger       50000.0   1.667840   1.289195   0.000000   1.000000   \n",
       "\n",
       "                            50%        75%         max  \n",
       "amount                 8.500000  12.500000  200.000000  \n",
       "longitude_of_pickup  -73.981840 -73.967148   40.783472  \n",
       "latitude_of_pickup    40.752678  40.767360  401.083332  \n",
       "longitude_of_dropoff -73.980082 -73.963584   40.851027  \n",
       "latitude_of_dropoff   40.753372  40.768167   43.415190  \n",
       "no_of_passenger        1.000000   2.000000    6.000000  "
      ]
     },
     "execution_count": 5,
     "metadata": {},
     "output_type": "execute_result"
    }
   ],
   "source": [
    "t.describe().T"
   ]
  },
  {
   "cell_type": "code",
   "execution_count": 6,
   "metadata": {},
   "outputs": [],
   "source": [
    "t.drop([\"unique_id\",'date_time_of_pickup'],axis=1,inplace=True)"
   ]
  },
  {
   "cell_type": "code",
   "execution_count": 7,
   "metadata": {},
   "outputs": [
    {
     "data": {
      "text/html": [
       "<div>\n",
       "<style scoped>\n",
       "    .dataframe tbody tr th:only-of-type {\n",
       "        vertical-align: middle;\n",
       "    }\n",
       "\n",
       "    .dataframe tbody tr th {\n",
       "        vertical-align: top;\n",
       "    }\n",
       "\n",
       "    .dataframe thead th {\n",
       "        text-align: right;\n",
       "    }\n",
       "</style>\n",
       "<table border=\"1\" class=\"dataframe\">\n",
       "  <thead>\n",
       "    <tr style=\"text-align: right;\">\n",
       "      <th></th>\n",
       "      <th>amount</th>\n",
       "      <th>longitude_of_pickup</th>\n",
       "      <th>latitude_of_pickup</th>\n",
       "      <th>longitude_of_dropoff</th>\n",
       "      <th>latitude_of_dropoff</th>\n",
       "      <th>no_of_passenger</th>\n",
       "    </tr>\n",
       "  </thead>\n",
       "  <tbody>\n",
       "    <tr>\n",
       "      <th>0</th>\n",
       "      <td>4.5</td>\n",
       "      <td>-73.844311</td>\n",
       "      <td>40.721319</td>\n",
       "      <td>-73.841610</td>\n",
       "      <td>40.712278</td>\n",
       "      <td>1</td>\n",
       "    </tr>\n",
       "    <tr>\n",
       "      <th>1</th>\n",
       "      <td>16.9</td>\n",
       "      <td>-74.016048</td>\n",
       "      <td>40.711303</td>\n",
       "      <td>-73.979268</td>\n",
       "      <td>40.782004</td>\n",
       "      <td>1</td>\n",
       "    </tr>\n",
       "    <tr>\n",
       "      <th>2</th>\n",
       "      <td>5.7</td>\n",
       "      <td>-73.982738</td>\n",
       "      <td>40.761270</td>\n",
       "      <td>-73.991242</td>\n",
       "      <td>40.750562</td>\n",
       "      <td>2</td>\n",
       "    </tr>\n",
       "    <tr>\n",
       "      <th>3</th>\n",
       "      <td>7.7</td>\n",
       "      <td>-73.987130</td>\n",
       "      <td>40.733143</td>\n",
       "      <td>-73.991567</td>\n",
       "      <td>40.758092</td>\n",
       "      <td>1</td>\n",
       "    </tr>\n",
       "    <tr>\n",
       "      <th>4</th>\n",
       "      <td>5.3</td>\n",
       "      <td>-73.968095</td>\n",
       "      <td>40.768008</td>\n",
       "      <td>-73.956655</td>\n",
       "      <td>40.783762</td>\n",
       "      <td>1</td>\n",
       "    </tr>\n",
       "  </tbody>\n",
       "</table>\n",
       "</div>"
      ],
      "text/plain": [
       "   amount  longitude_of_pickup  latitude_of_pickup  longitude_of_dropoff  \\\n",
       "0     4.5           -73.844311           40.721319            -73.841610   \n",
       "1    16.9           -74.016048           40.711303            -73.979268   \n",
       "2     5.7           -73.982738           40.761270            -73.991242   \n",
       "3     7.7           -73.987130           40.733143            -73.991567   \n",
       "4     5.3           -73.968095           40.768008            -73.956655   \n",
       "\n",
       "   latitude_of_dropoff  no_of_passenger  \n",
       "0            40.712278                1  \n",
       "1            40.782004                1  \n",
       "2            40.750562                2  \n",
       "3            40.758092                1  \n",
       "4            40.783762                1  "
      ]
     },
     "execution_count": 7,
     "metadata": {},
     "output_type": "execute_result"
    }
   ],
   "source": [
    "t.head()"
   ]
  },
  {
   "cell_type": "code",
   "execution_count": 8,
   "metadata": {},
   "outputs": [
    {
     "data": {
      "text/plain": [
       "amount                  0\n",
       "longitude_of_pickup     0\n",
       "latitude_of_pickup      0\n",
       "longitude_of_dropoff    0\n",
       "latitude_of_dropoff     0\n",
       "no_of_passenger         0\n",
       "dtype: int64"
      ]
     },
     "execution_count": 8,
     "metadata": {},
     "output_type": "execute_result"
    }
   ],
   "source": [
    "t.isnull().sum()"
   ]
  },
  {
   "cell_type": "code",
   "execution_count": 9,
   "metadata": {},
   "outputs": [
    {
     "data": {
      "image/png": "[encoded data removed]",
      "text/plain": [
       "<Figure size 864x1080 with 6 Axes>"
      ]
     },
     "metadata": {
      "needs_background": "light"
     },
     "output_type": "display_data"
    }
   ],
   "source": [
    "f,ax=mp.subplots(len(t.columns),figsize=(12,15))\n",
    "for i,j in enumerate(t.columns):\n",
    "    sn.distplot(t[j],ax=ax[i])\n",
    "    mp.tight_layout(pad=0.8)"
   ]
  },
  {
   "cell_type": "code",
   "execution_count": 10,
   "metadata": {},
   "outputs": [],
   "source": [
    "t[\"Total_latitude\"]=abs(t[\"latitude_of_dropoff\"]-t[\"latitude_of_pickup\"])\n",
    "t[\"Total_longitude\"]=abs(t[\"longitude_of_dropoff\"]-t[\"longitude_of_pickup\"])"
   ]
  },
  {
   "cell_type": "code",
   "execution_count": 11,
   "metadata": {},
   "outputs": [
    {
     "data": {
      "text/html": [
       "<div>\n",
       "<style scoped>\n",
       "    .dataframe tbody tr th:only-of-type {\n",
       "        vertical-align: middle;\n",
       "    }\n",
       "\n",
       "    .dataframe tbody tr th {\n",
       "        vertical-align: top;\n",
       "    }\n",
       "\n",
       "    .dataframe thead th {\n",
       "        text-align: right;\n",
       "    }\n",
       "</style>\n",
       "<table border=\"1\" class=\"dataframe\">\n",
       "  <thead>\n",
       "    <tr style=\"text-align: right;\">\n",
       "      <th></th>\n",
       "      <th>amount</th>\n",
       "      <th>longitude_of_pickup</th>\n",
       "      <th>latitude_of_pickup</th>\n",
       "      <th>longitude_of_dropoff</th>\n",
       "      <th>latitude_of_dropoff</th>\n",
       "      <th>no_of_passenger</th>\n",
       "      <th>Total_latitude</th>\n",
       "      <th>Total_longitude</th>\n",
       "    </tr>\n",
       "  </thead>\n",
       "  <tbody>\n",
       "    <tr>\n",
       "      <th>0</th>\n",
       "      <td>4.5</td>\n",
       "      <td>-73.844311</td>\n",
       "      <td>40.721319</td>\n",
       "      <td>-73.841610</td>\n",
       "      <td>40.712278</td>\n",
       "      <td>1</td>\n",
       "      <td>0.009041</td>\n",
       "      <td>0.002701</td>\n",
       "    </tr>\n",
       "    <tr>\n",
       "      <th>1</th>\n",
       "      <td>16.9</td>\n",
       "      <td>-74.016048</td>\n",
       "      <td>40.711303</td>\n",
       "      <td>-73.979268</td>\n",
       "      <td>40.782004</td>\n",
       "      <td>1</td>\n",
       "      <td>0.070701</td>\n",
       "      <td>0.036780</td>\n",
       "    </tr>\n",
       "    <tr>\n",
       "      <th>2</th>\n",
       "      <td>5.7</td>\n",
       "      <td>-73.982738</td>\n",
       "      <td>40.761270</td>\n",
       "      <td>-73.991242</td>\n",
       "      <td>40.750562</td>\n",
       "      <td>2</td>\n",
       "      <td>0.010708</td>\n",
       "      <td>0.008504</td>\n",
       "    </tr>\n",
       "    <tr>\n",
       "      <th>3</th>\n",
       "      <td>7.7</td>\n",
       "      <td>-73.987130</td>\n",
       "      <td>40.733143</td>\n",
       "      <td>-73.991567</td>\n",
       "      <td>40.758092</td>\n",
       "      <td>1</td>\n",
       "      <td>0.024949</td>\n",
       "      <td>0.004437</td>\n",
       "    </tr>\n",
       "    <tr>\n",
       "      <th>4</th>\n",
       "      <td>5.3</td>\n",
       "      <td>-73.968095</td>\n",
       "      <td>40.768008</td>\n",
       "      <td>-73.956655</td>\n",
       "      <td>40.783762</td>\n",
       "      <td>1</td>\n",
       "      <td>0.015754</td>\n",
       "      <td>0.011440</td>\n",
       "    </tr>\n",
       "  </tbody>\n",
       "</table>\n",
       "</div>"
      ],
      "text/plain": [
       "   amount  longitude_of_pickup  latitude_of_pickup  longitude_of_dropoff  \\\n",
       "0     4.5           -73.844311           40.721319            -73.841610   \n",
       "1    16.9           -74.016048           40.711303            -73.979268   \n",
       "2     5.7           -73.982738           40.761270            -73.991242   \n",
       "3     7.7           -73.987130           40.733143            -73.991567   \n",
       "4     5.3           -73.968095           40.768008            -73.956655   \n",
       "\n",
       "   latitude_of_dropoff  no_of_passenger  Total_latitude  Total_longitude  \n",
       "0            40.712278                1        0.009041         0.002701  \n",
       "1            40.782004                1        0.070701         0.036780  \n",
       "2            40.750562                2        0.010708         0.008504  \n",
       "3            40.758092                1        0.024949         0.004437  \n",
       "4            40.783762                1        0.015754         0.011440  "
      ]
     },
     "execution_count": 11,
     "metadata": {},
     "output_type": "execute_result"
    }
   ],
   "source": [
    "t.head()"
   ]
  },
  {
   "cell_type": "code",
   "execution_count": 12,
   "metadata": {},
   "outputs": [],
   "source": [
    "t.drop(['longitude_of_pickup','latitude_of_pickup','longitude_of_dropoff','latitude_of_dropoff'],axis=1,inplace=True)"
   ]
  },
  {
   "cell_type": "code",
   "execution_count": 13,
   "metadata": {},
   "outputs": [
    {
     "data": {
      "text/html": [
       "<div>\n",
       "<style scoped>\n",
       "    .dataframe tbody tr th:only-of-type {\n",
       "        vertical-align: middle;\n",
       "    }\n",
       "\n",
       "    .dataframe tbody tr th {\n",
       "        vertical-align: top;\n",
       "    }\n",
       "\n",
       "    .dataframe thead th {\n",
       "        text-align: right;\n",
       "    }\n",
       "</style>\n",
       "<table border=\"1\" class=\"dataframe\">\n",
       "  <thead>\n",
       "    <tr style=\"text-align: right;\">\n",
       "      <th></th>\n",
       "      <th>amount</th>\n",
       "      <th>no_of_passenger</th>\n",
       "      <th>Total_latitude</th>\n",
       "      <th>Total_longitude</th>\n",
       "    </tr>\n",
       "  </thead>\n",
       "  <tbody>\n",
       "    <tr>\n",
       "      <th>0</th>\n",
       "      <td>4.5</td>\n",
       "      <td>1</td>\n",
       "      <td>0.009041</td>\n",
       "      <td>0.002701</td>\n",
       "    </tr>\n",
       "    <tr>\n",
       "      <th>1</th>\n",
       "      <td>16.9</td>\n",
       "      <td>1</td>\n",
       "      <td>0.070701</td>\n",
       "      <td>0.036780</td>\n",
       "    </tr>\n",
       "    <tr>\n",
       "      <th>2</th>\n",
       "      <td>5.7</td>\n",
       "      <td>2</td>\n",
       "      <td>0.010708</td>\n",
       "      <td>0.008504</td>\n",
       "    </tr>\n",
       "    <tr>\n",
       "      <th>3</th>\n",
       "      <td>7.7</td>\n",
       "      <td>1</td>\n",
       "      <td>0.024949</td>\n",
       "      <td>0.004437</td>\n",
       "    </tr>\n",
       "    <tr>\n",
       "      <th>4</th>\n",
       "      <td>5.3</td>\n",
       "      <td>1</td>\n",
       "      <td>0.015754</td>\n",
       "      <td>0.011440</td>\n",
       "    </tr>\n",
       "  </tbody>\n",
       "</table>\n",
       "</div>"
      ],
      "text/plain": [
       "   amount  no_of_passenger  Total_latitude  Total_longitude\n",
       "0     4.5                1        0.009041         0.002701\n",
       "1    16.9                1        0.070701         0.036780\n",
       "2     5.7                2        0.010708         0.008504\n",
       "3     7.7                1        0.024949         0.004437\n",
       "4     5.3                1        0.015754         0.011440"
      ]
     },
     "execution_count": 13,
     "metadata": {},
     "output_type": "execute_result"
    }
   ],
   "source": [
    "t.head()"
   ]
  },
  {
   "cell_type": "code",
   "execution_count": 14,
   "metadata": {},
   "outputs": [
    {
     "data": {
      "text/plain": [
       "<matplotlib.axes._subplots.AxesSubplot at 0x209b3eb29c8>"
      ]
     },
     "execution_count": 14,
     "metadata": {},
     "output_type": "execute_result"
    },
    {
     "data": {
      "image/png": "[encoded data removed]",
      "text/plain": [
       "<Figure size 864x576 with 2 Axes>"
      ]
     },
     "metadata": {
      "needs_background": "light"
     },
     "output_type": "display_data"
    }
   ],
   "source": [
    "mp.subplots(figsize=(12,8))\n",
    "k=t.corr()\n",
    "sn.heatmap(k,annot=True)"
   ]
  },
  {
   "cell_type": "code",
   "execution_count": 15,
   "metadata": {},
   "outputs": [
    {
     "data": {
      "text/html": [
       "<div>\n",
       "<style scoped>\n",
       "    .dataframe tbody tr th:only-of-type {\n",
       "        vertical-align: middle;\n",
       "    }\n",
       "\n",
       "    .dataframe tbody tr th {\n",
       "        vertical-align: top;\n",
       "    }\n",
       "\n",
       "    .dataframe thead th {\n",
       "        text-align: right;\n",
       "    }\n",
       "</style>\n",
       "<table border=\"1\" class=\"dataframe\">\n",
       "  <thead>\n",
       "    <tr style=\"text-align: right;\">\n",
       "      <th></th>\n",
       "      <th>amount</th>\n",
       "      <th>no_of_passenger</th>\n",
       "      <th>Total_latitude</th>\n",
       "      <th>Total_longitude</th>\n",
       "    </tr>\n",
       "  </thead>\n",
       "  <tbody>\n",
       "    <tr>\n",
       "      <th>42337</th>\n",
       "      <td>-5.0</td>\n",
       "      <td>1</td>\n",
       "      <td>0.003883</td>\n",
       "      <td>0.010155</td>\n",
       "    </tr>\n",
       "    <tr>\n",
       "      <th>36602</th>\n",
       "      <td>6.9</td>\n",
       "      <td>1</td>\n",
       "      <td>0.002094</td>\n",
       "      <td>0.030176</td>\n",
       "    </tr>\n",
       "    <tr>\n",
       "      <th>7291</th>\n",
       "      <td>8.0</td>\n",
       "      <td>1</td>\n",
       "      <td>0.016563</td>\n",
       "      <td>0.015015</td>\n",
       "    </tr>\n",
       "    <tr>\n",
       "      <th>31953</th>\n",
       "      <td>8.1</td>\n",
       "      <td>1</td>\n",
       "      <td>0.017867</td>\n",
       "      <td>0.016867</td>\n",
       "    </tr>\n",
       "    <tr>\n",
       "      <th>14921</th>\n",
       "      <td>11.0</td>\n",
       "      <td>1</td>\n",
       "      <td>0.017828</td>\n",
       "      <td>0.011453</td>\n",
       "    </tr>\n",
       "    <tr>\n",
       "      <th>...</th>\n",
       "      <td>...</td>\n",
       "      <td>...</td>\n",
       "      <td>...</td>\n",
       "      <td>...</td>\n",
       "    </tr>\n",
       "    <tr>\n",
       "      <th>32979</th>\n",
       "      <td>10.9</td>\n",
       "      <td>1</td>\n",
       "      <td>0.010360</td>\n",
       "      <td>0.024393</td>\n",
       "    </tr>\n",
       "    <tr>\n",
       "      <th>32914</th>\n",
       "      <td>15.7</td>\n",
       "      <td>1</td>\n",
       "      <td>0.037045</td>\n",
       "      <td>0.030058</td>\n",
       "    </tr>\n",
       "    <tr>\n",
       "      <th>17412</th>\n",
       "      <td>4.5</td>\n",
       "      <td>3</td>\n",
       "      <td>0.007064</td>\n",
       "      <td>0.000848</td>\n",
       "    </tr>\n",
       "    <tr>\n",
       "      <th>46574</th>\n",
       "      <td>20.0</td>\n",
       "      <td>1</td>\n",
       "      <td>0.062535</td>\n",
       "      <td>0.031893</td>\n",
       "    </tr>\n",
       "    <tr>\n",
       "      <th>1769</th>\n",
       "      <td>12.5</td>\n",
       "      <td>2</td>\n",
       "      <td>0.049437</td>\n",
       "      <td>0.001892</td>\n",
       "    </tr>\n",
       "  </tbody>\n",
       "</table>\n",
       "<p>2000 rows × 4 columns</p>\n",
       "</div>"
      ],
      "text/plain": [
       "       amount  no_of_passenger  Total_latitude  Total_longitude\n",
       "42337    -5.0                1        0.003883         0.010155\n",
       "36602     6.9                1        0.002094         0.030176\n",
       "7291      8.0                1        0.016563         0.015015\n",
       "31953     8.1                1        0.017867         0.016867\n",
       "14921    11.0                1        0.017828         0.011453\n",
       "...       ...              ...             ...              ...\n",
       "32979    10.9                1        0.010360         0.024393\n",
       "32914    15.7                1        0.037045         0.030058\n",
       "17412     4.5                3        0.007064         0.000848\n",
       "46574    20.0                1        0.062535         0.031893\n",
       "1769     12.5                2        0.049437         0.001892\n",
       "\n",
       "[2000 rows x 4 columns]"
      ]
     },
     "execution_count": 15,
     "metadata": {},
     "output_type": "execute_result"
    }
   ],
   "source": [
    "t=t.sample(int(len(t)/25))\n",
    "t"
   ]
  },
  {
   "cell_type": "code",
   "execution_count": 16,
   "metadata": {},
   "outputs": [
    {
     "data": {
      "text/html": [
       "<div>\n",
       "<style scoped>\n",
       "    .dataframe tbody tr th:only-of-type {\n",
       "        vertical-align: middle;\n",
       "    }\n",
       "\n",
       "    .dataframe tbody tr th {\n",
       "        vertical-align: top;\n",
       "    }\n",
       "\n",
       "    .dataframe thead th {\n",
       "        text-align: right;\n",
       "    }\n",
       "</style>\n",
       "<table border=\"1\" class=\"dataframe\">\n",
       "  <thead>\n",
       "    <tr style=\"text-align: right;\">\n",
       "      <th></th>\n",
       "      <th>no_of_passenger</th>\n",
       "      <th>Total_latitude</th>\n",
       "      <th>Total_longitude</th>\n",
       "    </tr>\n",
       "  </thead>\n",
       "  <tbody>\n",
       "    <tr>\n",
       "      <th>42337</th>\n",
       "      <td>1</td>\n",
       "      <td>0.003883</td>\n",
       "      <td>0.010155</td>\n",
       "    </tr>\n",
       "    <tr>\n",
       "      <th>36602</th>\n",
       "      <td>1</td>\n",
       "      <td>0.002094</td>\n",
       "      <td>0.030176</td>\n",
       "    </tr>\n",
       "    <tr>\n",
       "      <th>7291</th>\n",
       "      <td>1</td>\n",
       "      <td>0.016563</td>\n",
       "      <td>0.015015</td>\n",
       "    </tr>\n",
       "    <tr>\n",
       "      <th>31953</th>\n",
       "      <td>1</td>\n",
       "      <td>0.017867</td>\n",
       "      <td>0.016867</td>\n",
       "    </tr>\n",
       "    <tr>\n",
       "      <th>14921</th>\n",
       "      <td>1</td>\n",
       "      <td>0.017828</td>\n",
       "      <td>0.011453</td>\n",
       "    </tr>\n",
       "    <tr>\n",
       "      <th>...</th>\n",
       "      <td>...</td>\n",
       "      <td>...</td>\n",
       "      <td>...</td>\n",
       "    </tr>\n",
       "    <tr>\n",
       "      <th>32979</th>\n",
       "      <td>1</td>\n",
       "      <td>0.010360</td>\n",
       "      <td>0.024393</td>\n",
       "    </tr>\n",
       "    <tr>\n",
       "      <th>32914</th>\n",
       "      <td>1</td>\n",
       "      <td>0.037045</td>\n",
       "      <td>0.030058</td>\n",
       "    </tr>\n",
       "    <tr>\n",
       "      <th>17412</th>\n",
       "      <td>3</td>\n",
       "      <td>0.007064</td>\n",
       "      <td>0.000848</td>\n",
       "    </tr>\n",
       "    <tr>\n",
       "      <th>46574</th>\n",
       "      <td>1</td>\n",
       "      <td>0.062535</td>\n",
       "      <td>0.031893</td>\n",
       "    </tr>\n",
       "    <tr>\n",
       "      <th>1769</th>\n",
       "      <td>2</td>\n",
       "      <td>0.049437</td>\n",
       "      <td>0.001892</td>\n",
       "    </tr>\n",
       "  </tbody>\n",
       "</table>\n",
       "<p>2000 rows × 3 columns</p>\n",
       "</div>"
      ],
      "text/plain": [
       "       no_of_passenger  Total_latitude  Total_longitude\n",
       "42337                1        0.003883         0.010155\n",
       "36602                1        0.002094         0.030176\n",
       "7291                 1        0.016563         0.015015\n",
       "31953                1        0.017867         0.016867\n",
       "14921                1        0.017828         0.011453\n",
       "...                ...             ...              ...\n",
       "32979                1        0.010360         0.024393\n",
       "32914                1        0.037045         0.030058\n",
       "17412                3        0.007064         0.000848\n",
       "46574                1        0.062535         0.031893\n",
       "1769                 2        0.049437         0.001892\n",
       "\n",
       "[2000 rows x 3 columns]"
      ]
     },
     "execution_count": 16,
     "metadata": {},
     "output_type": "execute_result"
    }
   ],
   "source": [
    "x=t.iloc[:,1:]\n",
    "x"
   ]
  },
  {
   "cell_type": "code",
   "execution_count": 17,
   "metadata": {},
   "outputs": [
    {
     "data": {
      "text/plain": [
       "42337    -5.0\n",
       "36602     6.9\n",
       "7291      8.0\n",
       "31953     8.1\n",
       "14921    11.0\n",
       "         ... \n",
       "32979    10.9\n",
       "32914    15.7\n",
       "17412     4.5\n",
       "46574    20.0\n",
       "1769     12.5\n",
       "Name: amount, Length: 2000, dtype: float64"
      ]
     },
     "execution_count": 17,
     "metadata": {},
     "output_type": "execute_result"
    }
   ],
   "source": [
    "y=t.iloc[:,0]\n",
    "y"
   ]
  },
  {
   "cell_type": "code",
   "execution_count": 18,
   "metadata": {},
   "outputs": [],
   "source": [
    "xta,xte,yta,yte=TTS(x,y,test_size=0.2,random_state=3)"
   ]
  },
  {
   "cell_type": "code",
   "execution_count": 19,
   "metadata": {},
   "outputs": [],
   "source": [
    "rfr=RFR()"
   ]
  },
  {
   "cell_type": "code",
   "execution_count": 20,
   "metadata": {},
   "outputs": [
    {
     "data": {
      "text/html": [
       "<style>#sk-d871aff9-e7c6-4584-9f84-545c2a85ed8b {color: black;background-color: white;}#sk-d871aff9-e7c6-4584-9f84-545c2a85ed8b pre{padding: 0;}#sk-d871aff9-e7c6-4584-9f84-545c2a85ed8b div.sk-toggleable {background-color: white;}#sk-d871aff9-e7c6-4584-9f84-545c2a85ed8b label.sk-toggleable__label {cursor: pointer;display: block;width: 100%;margin-bottom: 0;padding: 0.3em;box-sizing: border-box;text-align: center;}#sk-d871aff9-e7c6-4584-9f84-545c2a85ed8b label.sk-toggleable__label-arrow:before {content: \"▸\";float: left;margin-right: 0.25em;color: #696969;}#sk-d871aff9-e7c6-4584-9f84-545c2a85ed8b label.sk-toggleable__label-arrow:hover:before {color: black;}#sk-d871aff9-e7c6-4584-9f84-545c2a85ed8b div.sk-estimator:hover label.sk-toggleable__label-arrow:before {color: black;}#sk-d871aff9-e7c6-4584-9f84-545c2a85ed8b div.sk-toggleable__content {max-height: 0;max-width: 0;overflow: hidden;text-align: left;background-color: #f0f8ff;}#sk-d871aff9-e7c6-4584-9f84-545c2a85ed8b div.sk-toggleable__content pre {margin: 0.2em;color: black;border-radius: 0.25em;background-color: #f0f8ff;}#sk-d871aff9-e7c6-4584-9f84-545c2a85ed8b input.sk-toggleable__control:checked~div.sk-toggleable__content {max-height: 200px;max-width: 100%;overflow: auto;}#sk-d871aff9-e7c6-4584-9f84-545c2a85ed8b input.sk-toggleable__control:checked~label.sk-toggleable__label-arrow:before {content: \"▾\";}#sk-d871aff9-e7c6-4584-9f84-545c2a85ed8b div.sk-estimator input.sk-toggleable__control:checked~label.sk-toggleable__label {background-color: #d4ebff;}#sk-d871aff9-e7c6-4584-9f84-545c2a85ed8b div.sk-label input.sk-toggleable__control:checked~label.sk-toggleable__label {background-color: #d4ebff;}#sk-d871aff9-e7c6-4584-9f84-545c2a85ed8b input.sk-hidden--visually {border: 0;clip: rect(1px 1px 1px 1px);clip: rect(1px, 1px, 1px, 1px);height: 1px;margin: -1px;overflow: hidden;padding: 0;position: absolute;width: 1px;}#sk-d871aff9-e7c6-4584-9f84-545c2a85ed8b div.sk-estimator {font-family: monospace;background-color: #f0f8ff;border: 1px dotted black;border-radius: 0.25em;box-sizing: border-box;margin-bottom: 0.5em;}#sk-d871aff9-e7c6-4584-9f84-545c2a85ed8b div.sk-estimator:hover {background-color: #d4ebff;}#sk-d871aff9-e7c6-4584-9f84-545c2a85ed8b div.sk-parallel-item::after {content: \"\";width: 100%;border-bottom: 1px solid gray;flex-grow: 1;}#sk-d871aff9-e7c6-4584-9f84-545c2a85ed8b div.sk-label:hover label.sk-toggleable__label {background-color: #d4ebff;}#sk-d871aff9-e7c6-4584-9f84-545c2a85ed8b div.sk-serial::before {content: \"\";position: absolute;border-left: 1px solid gray;box-sizing: border-box;top: 2em;bottom: 0;left: 50%;}#sk-d871aff9-e7c6-4584-9f84-545c2a85ed8b div.sk-serial {display: flex;flex-direction: column;align-items: center;background-color: white;padding-right: 0.2em;padding-left: 0.2em;}#sk-d871aff9-e7c6-4584-9f84-545c2a85ed8b div.sk-item {z-index: 1;}#sk-d871aff9-e7c6-4584-9f84-545c2a85ed8b div.sk-parallel {display: flex;align-items: stretch;justify-content: center;background-color: white;}#sk-d871aff9-e7c6-4584-9f84-545c2a85ed8b div.sk-parallel::before {content: \"\";position: absolute;border-left: 1px solid gray;box-sizing: border-box;top: 2em;bottom: 0;left: 50%;}#sk-d871aff9-e7c6-4584-9f84-545c2a85ed8b div.sk-parallel-item {display: flex;flex-direction: column;position: relative;background-color: white;}#sk-d871aff9-e7c6-4584-9f84-545c2a85ed8b div.sk-parallel-item:first-child::after {align-self: flex-end;width: 50%;}#sk-d871aff9-e7c6-4584-9f84-545c2a85ed8b div.sk-parallel-item:last-child::after {align-self: flex-start;width: 50%;}#sk-d871aff9-e7c6-4584-9f84-545c2a85ed8b div.sk-parallel-item:only-child::after {width: 0;}#sk-d871aff9-e7c6-4584-9f84-545c2a85ed8b div.sk-dashed-wrapped {border: 1px dashed gray;margin: 0 0.4em 0.5em 0.4em;box-sizing: border-box;padding-bottom: 0.4em;background-color: white;position: relative;}#sk-d871aff9-e7c6-4584-9f84-545c2a85ed8b div.sk-label label {font-family: monospace;font-weight: bold;background-color: white;display: inline-block;line-height: 1.2em;}#sk-d871aff9-e7c6-4584-9f84-545c2a85ed8b div.sk-label-container {position: relative;z-index: 2;text-align: center;}#sk-d871aff9-e7c6-4584-9f84-545c2a85ed8b div.sk-container {/* jupyter's `normalize.less` sets `[hidden] { display: none; }` but bootstrap.min.css set `[hidden] { display: none !important; }` so we also need the `!important` here to be able to override the default hidden behavior on the sphinx rendered scikit-learn.org. See: https://github.com/scikit-learn/scikit-learn/issues/21755 */display: inline-block !important;position: relative;}#sk-d871aff9-e7c6-4584-9f84-545c2a85ed8b div.sk-text-repr-fallback {display: none;}</style><div id=\"sk-d871aff9-e7c6-4584-9f84-545c2a85ed8b\" class=\"sk-top-container\"><div class=\"sk-text-repr-fallback\"><pre>RandomForestRegressor()</pre><b>Please rerun this cell to show the HTML repr or trust the notebook.</b></div><div class=\"sk-container\" hidden><div class=\"sk-item\"><div class=\"sk-estimator sk-toggleable\"><input class=\"sk-toggleable__control sk-hidden--visually\" id=\"2139bc4a-e124-4aa9-8904-6c362278bdf6\" type=\"checkbox\" checked><label for=\"2139bc4a-e124-4aa9-8904-6c362278bdf6\" class=\"sk-toggleable__label sk-toggleable__label-arrow\">RandomForestRegressor</label><div class=\"sk-toggleable__content\"><pre>RandomForestRegressor()</pre></div></div></div></div></div>"
      ],
      "text/plain": [
       "RandomForestRegressor()"
      ]
     },
     "execution_count": 20,
     "metadata": {},
     "output_type": "execute_result"
    }
   ],
   "source": [
    "rfr.fit(xta,yta)"
   ]
  },
  {
   "cell_type": "code",
   "execution_count": 21,
   "metadata": {},
   "outputs": [],
   "source": [
    "ypre=rfr.predict(xte)"
   ]
  },
  {
   "cell_type": "code",
   "execution_count": 22,
   "metadata": {},
   "outputs": [
    {
     "data": {
      "text/plain": [
       "0.7736892463463493"
      ]
     },
     "execution_count": 22,
     "metadata": {},
     "output_type": "execute_result"
    }
   ],
   "source": [
    "r2(yte,ypre)"
   ]
  },
  {
   "cell_type": "code",
   "execution_count": 23,
   "metadata": {},
   "outputs": [],
   "source": [
    "p={\n",
    "    \"max_depth\":[8,10,12,14,16,18],\n",
    "    \"min_samples_split\":[2,3,4,5,6],\n",
    "    \"min_samples_leaf\":[1,2,3,4,5,6],\n",
    "    \"criterion\":[\"squared_error\",\"absolute_error\"],\n",
    "}"
   ]
  },
  {
   "cell_type": "code",
   "execution_count": 24,
   "metadata": {},
   "outputs": [],
   "source": [
    "gscv=GSCV(rfr,param_grid=p,scoring=\"r2\",cv=4,n_jobs=-1)"
   ]
  },
  {
   "cell_type": "code",
   "execution_count": 25,
   "metadata": {},
   "outputs": [
    {
     "data": {
      "text/html": [
       "<style>#sk-48bb791a-7212-4659-9fe2-6e120a5168a3 {color: black;background-color: white;}#sk-48bb791a-7212-4659-9fe2-6e120a5168a3 pre{padding: 0;}#sk-48bb791a-7212-4659-9fe2-6e120a5168a3 div.sk-toggleable {background-color: white;}#sk-48bb791a-7212-4659-9fe2-6e120a5168a3 label.sk-toggleable__label {cursor: pointer;display: block;width: 100%;margin-bottom: 0;padding: 0.3em;box-sizing: border-box;text-align: center;}#sk-48bb791a-7212-4659-9fe2-6e120a5168a3 label.sk-toggleable__label-arrow:before {content: \"▸\";float: left;margin-right: 0.25em;color: #696969;}#sk-48bb791a-7212-4659-9fe2-6e120a5168a3 label.sk-toggleable__label-arrow:hover:before {color: black;}#sk-48bb791a-7212-4659-9fe2-6e120a5168a3 div.sk-estimator:hover label.sk-toggleable__label-arrow:before {color: black;}#sk-48bb791a-7212-4659-9fe2-6e120a5168a3 div.sk-toggleable__content {max-height: 0;max-width: 0;overflow: hidden;text-align: left;background-color: #f0f8ff;}#sk-48bb791a-7212-4659-9fe2-6e120a5168a3 div.sk-toggleable__content pre {margin: 0.2em;color: black;border-radius: 0.25em;background-color: #f0f8ff;}#sk-48bb791a-7212-4659-9fe2-6e120a5168a3 input.sk-toggleable__control:checked~div.sk-toggleable__content {max-height: 200px;max-width: 100%;overflow: auto;}#sk-48bb791a-7212-4659-9fe2-6e120a5168a3 input.sk-toggleable__control:checked~label.sk-toggleable__label-arrow:before {content: \"▾\";}#sk-48bb791a-7212-4659-9fe2-6e120a5168a3 div.sk-estimator input.sk-toggleable__control:checked~label.sk-toggleable__label {background-color: #d4ebff;}#sk-48bb791a-7212-4659-9fe2-6e120a5168a3 div.sk-label input.sk-toggleable__control:checked~label.sk-toggleable__label {background-color: #d4ebff;}#sk-48bb791a-7212-4659-9fe2-6e120a5168a3 input.sk-hidden--visually {border: 0;clip: rect(1px 1px 1px 1px);clip: rect(1px, 1px, 1px, 1px);height: 1px;margin: -1px;overflow: hidden;padding: 0;position: absolute;width: 1px;}#sk-48bb791a-7212-4659-9fe2-6e120a5168a3 div.sk-estimator {font-family: monospace;background-color: #f0f8ff;border: 1px dotted black;border-radius: 0.25em;box-sizing: border-box;margin-bottom: 0.5em;}#sk-48bb791a-7212-4659-9fe2-6e120a5168a3 div.sk-estimator:hover {background-color: #d4ebff;}#sk-48bb791a-7212-4659-9fe2-6e120a5168a3 div.sk-parallel-item::after {content: \"\";width: 100%;border-bottom: 1px solid gray;flex-grow: 1;}#sk-48bb791a-7212-4659-9fe2-6e120a5168a3 div.sk-label:hover label.sk-toggleable__label {background-color: #d4ebff;}#sk-48bb791a-7212-4659-9fe2-6e120a5168a3 div.sk-serial::before {content: \"\";position: absolute;border-left: 1px solid gray;box-sizing: border-box;top: 2em;bottom: 0;left: 50%;}#sk-48bb791a-7212-4659-9fe2-6e120a5168a3 div.sk-serial {display: flex;flex-direction: column;align-items: center;background-color: white;padding-right: 0.2em;padding-left: 0.2em;}#sk-48bb791a-7212-4659-9fe2-6e120a5168a3 div.sk-item {z-index: 1;}#sk-48bb791a-7212-4659-9fe2-6e120a5168a3 div.sk-parallel {display: flex;align-items: stretch;justify-content: center;background-color: white;}#sk-48bb791a-7212-4659-9fe2-6e120a5168a3 div.sk-parallel::before {content: \"\";position: absolute;border-left: 1px solid gray;box-sizing: border-box;top: 2em;bottom: 0;left: 50%;}#sk-48bb791a-7212-4659-9fe2-6e120a5168a3 div.sk-parallel-item {display: flex;flex-direction: column;position: relative;background-color: white;}#sk-48bb791a-7212-4659-9fe2-6e120a5168a3 div.sk-parallel-item:first-child::after {align-self: flex-end;width: 50%;}#sk-48bb791a-7212-4659-9fe2-6e120a5168a3 div.sk-parallel-item:last-child::after {align-self: flex-start;width: 50%;}#sk-48bb791a-7212-4659-9fe2-6e120a5168a3 div.sk-parallel-item:only-child::after {width: 0;}#sk-48bb791a-7212-4659-9fe2-6e120a5168a3 div.sk-dashed-wrapped {border: 1px dashed gray;margin: 0 0.4em 0.5em 0.4em;box-sizing: border-box;padding-bottom: 0.4em;background-color: white;position: relative;}#sk-48bb791a-7212-4659-9fe2-6e120a5168a3 div.sk-label label {font-family: monospace;font-weight: bold;background-color: white;display: inline-block;line-height: 1.2em;}#sk-48bb791a-7212-4659-9fe2-6e120a5168a3 div.sk-label-container {position: relative;z-index: 2;text-align: center;}#sk-48bb791a-7212-4659-9fe2-6e120a5168a3 div.sk-container {/* jupyter's `normalize.less` sets `[hidden] { display: none; }` but bootstrap.min.css set `[hidden] { display: none !important; }` so we also need the `!important` here to be able to override the default hidden behavior on the sphinx rendered scikit-learn.org. See: https://github.com/scikit-learn/scikit-learn/issues/21755 */display: inline-block !important;position: relative;}#sk-48bb791a-7212-4659-9fe2-6e120a5168a3 div.sk-text-repr-fallback {display: none;}</style><div id=\"sk-48bb791a-7212-4659-9fe2-6e120a5168a3\" class=\"sk-top-container\"><div class=\"sk-text-repr-fallback\"><pre>GridSearchCV(cv=4, estimator=RandomForestRegressor(), n_jobs=-1,\n",
       "             param_grid={&#x27;criterion&#x27;: [&#x27;squared_error&#x27;, &#x27;absolute_error&#x27;],\n",
       "                         &#x27;max_depth&#x27;: [8, 10, 12, 14, 16, 18],\n",
       "                         &#x27;min_samples_leaf&#x27;: [1, 2, 3, 4, 5, 6],\n",
       "                         &#x27;min_samples_split&#x27;: [2, 3, 4, 5, 6]},\n",
       "             scoring=&#x27;r2&#x27;)</pre><b>Please rerun this cell to show the HTML repr or trust the notebook.</b></div><div class=\"sk-container\" hidden><div class=\"sk-item sk-dashed-wrapped\"><div class=\"sk-label-container\"><div class=\"sk-label sk-toggleable\"><input class=\"sk-toggleable__control sk-hidden--visually\" id=\"906be648-1f14-41ec-9953-ca3c98ff4ff7\" type=\"checkbox\" ><label for=\"906be648-1f14-41ec-9953-ca3c98ff4ff7\" class=\"sk-toggleable__label sk-toggleable__label-arrow\">GridSearchCV</label><div class=\"sk-toggleable__content\"><pre>GridSearchCV(cv=4, estimator=RandomForestRegressor(), n_jobs=-1,\n",
       "             param_grid={&#x27;criterion&#x27;: [&#x27;squared_error&#x27;, &#x27;absolute_error&#x27;],\n",
       "                         &#x27;max_depth&#x27;: [8, 10, 12, 14, 16, 18],\n",
       "                         &#x27;min_samples_leaf&#x27;: [1, 2, 3, 4, 5, 6],\n",
       "                         &#x27;min_samples_split&#x27;: [2, 3, 4, 5, 6]},\n",
       "             scoring=&#x27;r2&#x27;)</pre></div></div></div><div class=\"sk-parallel\"><div class=\"sk-parallel-item\"><div class=\"sk-item\"><div class=\"sk-serial\"><div class=\"sk-item\"><div class=\"sk-estimator sk-toggleable\"><input class=\"sk-toggleable__control sk-hidden--visually\" id=\"6839ec1d-369e-434b-b000-144cd0d0fe2c\" type=\"checkbox\" ><label for=\"6839ec1d-369e-434b-b000-144cd0d0fe2c\" class=\"sk-toggleable__label sk-toggleable__label-arrow\">RandomForestRegressor</label><div class=\"sk-toggleable__content\"><pre>RandomForestRegressor()</pre></div></div></div></div></div></div></div></div></div></div>"
      ],
      "text/plain": [
       "GridSearchCV(cv=4, estimator=RandomForestRegressor(), n_jobs=-1,\n",
       "             param_grid={'criterion': ['squared_error', 'absolute_error'],\n",
       "                         'max_depth': [8, 10, 12, 14, 16, 18],\n",
       "                         'min_samples_leaf': [1, 2, 3, 4, 5, 6],\n",
       "                         'min_samples_split': [2, 3, 4, 5, 6]},\n",
       "             scoring='r2')"
      ]
     },
     "execution_count": 25,
     "metadata": {},
     "output_type": "execute_result"
    }
   ],
   "source": [
    "gscv.fit(xta,yta)"
   ]
  },
  {
   "cell_type": "code",
   "execution_count": 26,
   "metadata": {},
   "outputs": [
    {
     "data": {
      "text/plain": [
       "{'criterion': 'absolute_error',\n",
       " 'max_depth': 12,\n",
       " 'min_samples_leaf': 1,\n",
       " 'min_samples_split': 6}"
      ]
     },
     "execution_count": 26,
     "metadata": {},
     "output_type": "execute_result"
    }
   ],
   "source": [
    "gscv.best_params_"
   ]
  },
  {
   "cell_type": "code",
   "execution_count": 27,
   "metadata": {},
   "outputs": [
    {
     "data": {
      "text/plain": [
       "0.7853815584137837"
      ]
     },
     "execution_count": 27,
     "metadata": {},
     "output_type": "execute_result"
    }
   ],
   "source": [
    "gscv.best_score_"
   ]
  }
 ],
 "metadata": {
  "kernelspec": {
   "display_name": "Python 3",
   "language": "python",
   "name": "python3"
  },
  "language_info": {
   "codemirror_mode": {
    "name": "ipython",
    "version": 3
   },
   "file_extension": ".py",
   "mimetype": "text/x-python",
   "name": "python",
   "nbconvert_exporter": "python",
   "pygments_lexer": "ipython3",
   "version": "3.7.6"
  }
 },
 "nbformat": 4,
 "nbformat_minor": 4
}
